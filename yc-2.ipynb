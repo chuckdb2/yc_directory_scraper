{
 "cells": [
  {
   "cell_type": "code",
   "execution_count": 1,
   "metadata": {},
   "outputs": [
    {
     "name": "stdout",
     "output_type": "stream",
     "text": [
      "Requirement already satisfied: selenium in /Users/afxjzs/.pyenv/versions/3.11.4/envs/jupyter_env/lib/python3.11/site-packages (4.10.0)\n",
      "Requirement already satisfied: beautifulsoup4 in /Users/afxjzs/.pyenv/versions/3.11.4/envs/jupyter_env/lib/python3.11/site-packages (4.12.2)\n",
      "Requirement already satisfied: pandas in /Users/afxjzs/.pyenv/versions/3.11.4/envs/jupyter_env/lib/python3.11/site-packages (2.0.3)\n",
      "Requirement already satisfied: python-dotenv in /Users/afxjzs/.pyenv/versions/3.11.4/envs/jupyter_env/lib/python3.11/site-packages (1.0.0)\n",
      "Requirement already satisfied: urllib3[socks]<3,>=1.26 in /Users/afxjzs/.pyenv/versions/3.11.4/envs/jupyter_env/lib/python3.11/site-packages (from selenium) (2.0.3)\n",
      "Requirement already satisfied: trio~=0.17 in /Users/afxjzs/.pyenv/versions/3.11.4/envs/jupyter_env/lib/python3.11/site-packages (from selenium) (0.22.2)\n",
      "Requirement already satisfied: trio-websocket~=0.9 in /Users/afxjzs/.pyenv/versions/3.11.4/envs/jupyter_env/lib/python3.11/site-packages (from selenium) (0.10.3)\n",
      "Requirement already satisfied: certifi>=2021.10.8 in /Users/afxjzs/.pyenv/versions/3.11.4/envs/jupyter_env/lib/python3.11/site-packages (from selenium) (2023.5.7)\n",
      "Requirement already satisfied: soupsieve>1.2 in /Users/afxjzs/.pyenv/versions/3.11.4/envs/jupyter_env/lib/python3.11/site-packages (from beautifulsoup4) (2.4.1)\n",
      "Requirement already satisfied: python-dateutil>=2.8.2 in /Users/afxjzs/.pyenv/versions/3.11.4/envs/jupyter_env/lib/python3.11/site-packages (from pandas) (2.8.2)\n",
      "Requirement already satisfied: pytz>=2020.1 in /Users/afxjzs/.pyenv/versions/3.11.4/envs/jupyter_env/lib/python3.11/site-packages (from pandas) (2023.3)\n",
      "Requirement already satisfied: tzdata>=2022.1 in /Users/afxjzs/.pyenv/versions/3.11.4/envs/jupyter_env/lib/python3.11/site-packages (from pandas) (2023.3)\n",
      "Requirement already satisfied: numpy>=1.21.0 in /Users/afxjzs/.pyenv/versions/3.11.4/envs/jupyter_env/lib/python3.11/site-packages (from pandas) (1.25.0)\n",
      "Requirement already satisfied: six>=1.5 in /Users/afxjzs/.pyenv/versions/3.11.4/envs/jupyter_env/lib/python3.11/site-packages (from python-dateutil>=2.8.2->pandas) (1.16.0)\n",
      "Requirement already satisfied: attrs>=20.1.0 in /Users/afxjzs/.pyenv/versions/3.11.4/envs/jupyter_env/lib/python3.11/site-packages (from trio~=0.17->selenium) (23.1.0)\n",
      "Requirement already satisfied: sortedcontainers in /Users/afxjzs/.pyenv/versions/3.11.4/envs/jupyter_env/lib/python3.11/site-packages (from trio~=0.17->selenium) (2.4.0)\n",
      "Requirement already satisfied: idna in /Users/afxjzs/.pyenv/versions/3.11.4/envs/jupyter_env/lib/python3.11/site-packages (from trio~=0.17->selenium) (3.4)\n",
      "Requirement already satisfied: outcome in /Users/afxjzs/.pyenv/versions/3.11.4/envs/jupyter_env/lib/python3.11/site-packages (from trio~=0.17->selenium) (1.2.0)\n",
      "Requirement already satisfied: sniffio in /Users/afxjzs/.pyenv/versions/3.11.4/envs/jupyter_env/lib/python3.11/site-packages (from trio~=0.17->selenium) (1.3.0)\n",
      "Requirement already satisfied: exceptiongroup in /Users/afxjzs/.pyenv/versions/3.11.4/envs/jupyter_env/lib/python3.11/site-packages (from trio-websocket~=0.9->selenium) (1.1.2)\n",
      "Requirement already satisfied: wsproto>=0.14 in /Users/afxjzs/.pyenv/versions/3.11.4/envs/jupyter_env/lib/python3.11/site-packages (from trio-websocket~=0.9->selenium) (1.2.0)\n",
      "Requirement already satisfied: pysocks!=1.5.7,<2.0,>=1.5.6 in /Users/afxjzs/.pyenv/versions/3.11.4/envs/jupyter_env/lib/python3.11/site-packages (from urllib3[socks]<3,>=1.26->selenium) (1.7.1)\n",
      "Requirement already satisfied: h11<1,>=0.9.0 in /Users/afxjzs/.pyenv/versions/3.11.4/envs/jupyter_env/lib/python3.11/site-packages (from wsproto>=0.14->trio-websocket~=0.9->selenium) (0.14.0)\n",
      "\n",
      "\u001b[1m[\u001b[0m\u001b[34;49mnotice\u001b[0m\u001b[1;39;49m]\u001b[0m\u001b[39;49m A new release of pip is available: \u001b[0m\u001b[31;49m23.1.2\u001b[0m\u001b[39;49m -> \u001b[0m\u001b[32;49m23.2\u001b[0m\n",
      "\u001b[1m[\u001b[0m\u001b[34;49mnotice\u001b[0m\u001b[1;39;49m]\u001b[0m\u001b[39;49m To update, run: \u001b[0m\u001b[32;49mpip install --upgrade pip\u001b[0m\n"
     ]
    }
   ],
   "source": [
    "!pip install selenium beautifulsoup4 pandas python-dotenv"
   ]
  },
  {
   "cell_type": "code",
   "execution_count": 2,
   "metadata": {},
   "outputs": [
    {
     "name": "stdout",
     "output_type": "stream",
     "text": [
      "Requirement already satisfied: selenium in /Users/afxjzs/.pyenv/versions/3.11.4/envs/jupyter_env/lib/python3.11/site-packages (4.10.0)\n",
      "Requirement already satisfied: urllib3[socks]<3,>=1.26 in /Users/afxjzs/.pyenv/versions/3.11.4/envs/jupyter_env/lib/python3.11/site-packages (from selenium) (2.0.3)\n",
      "Requirement already satisfied: trio~=0.17 in /Users/afxjzs/.pyenv/versions/3.11.4/envs/jupyter_env/lib/python3.11/site-packages (from selenium) (0.22.2)\n",
      "Requirement already satisfied: trio-websocket~=0.9 in /Users/afxjzs/.pyenv/versions/3.11.4/envs/jupyter_env/lib/python3.11/site-packages (from selenium) (0.10.3)\n",
      "Requirement already satisfied: certifi>=2021.10.8 in /Users/afxjzs/.pyenv/versions/3.11.4/envs/jupyter_env/lib/python3.11/site-packages (from selenium) (2023.5.7)\n",
      "Requirement already satisfied: attrs>=20.1.0 in /Users/afxjzs/.pyenv/versions/3.11.4/envs/jupyter_env/lib/python3.11/site-packages (from trio~=0.17->selenium) (23.1.0)\n",
      "Requirement already satisfied: sortedcontainers in /Users/afxjzs/.pyenv/versions/3.11.4/envs/jupyter_env/lib/python3.11/site-packages (from trio~=0.17->selenium) (2.4.0)\n",
      "Requirement already satisfied: idna in /Users/afxjzs/.pyenv/versions/3.11.4/envs/jupyter_env/lib/python3.11/site-packages (from trio~=0.17->selenium) (3.4)\n",
      "Requirement already satisfied: outcome in /Users/afxjzs/.pyenv/versions/3.11.4/envs/jupyter_env/lib/python3.11/site-packages (from trio~=0.17->selenium) (1.2.0)\n",
      "Requirement already satisfied: sniffio in /Users/afxjzs/.pyenv/versions/3.11.4/envs/jupyter_env/lib/python3.11/site-packages (from trio~=0.17->selenium) (1.3.0)\n",
      "Requirement already satisfied: exceptiongroup in /Users/afxjzs/.pyenv/versions/3.11.4/envs/jupyter_env/lib/python3.11/site-packages (from trio-websocket~=0.9->selenium) (1.1.2)\n",
      "Requirement already satisfied: wsproto>=0.14 in /Users/afxjzs/.pyenv/versions/3.11.4/envs/jupyter_env/lib/python3.11/site-packages (from trio-websocket~=0.9->selenium) (1.2.0)\n",
      "Requirement already satisfied: pysocks!=1.5.7,<2.0,>=1.5.6 in /Users/afxjzs/.pyenv/versions/3.11.4/envs/jupyter_env/lib/python3.11/site-packages (from urllib3[socks]<3,>=1.26->selenium) (1.7.1)\n",
      "Requirement already satisfied: h11<1,>=0.9.0 in /Users/afxjzs/.pyenv/versions/3.11.4/envs/jupyter_env/lib/python3.11/site-packages (from wsproto>=0.14->trio-websocket~=0.9->selenium) (0.14.0)\n",
      "\n",
      "\u001b[1m[\u001b[0m\u001b[34;49mnotice\u001b[0m\u001b[1;39;49m]\u001b[0m\u001b[39;49m A new release of pip is available: \u001b[0m\u001b[31;49m23.1.2\u001b[0m\u001b[39;49m -> \u001b[0m\u001b[32;49m23.2\u001b[0m\n",
      "\u001b[1m[\u001b[0m\u001b[34;49mnotice\u001b[0m\u001b[1;39;49m]\u001b[0m\u001b[39;49m To update, run: \u001b[0m\u001b[32;49mpip install --upgrade pip\u001b[0m\n",
      "Note: you may need to restart the kernel to use updated packages.\n"
     ]
    }
   ],
   "source": [
    "pip install --upgrade selenium"
   ]
  },
  {
   "cell_type": "code",
   "execution_count": 3,
   "metadata": {},
   "outputs": [
    {
     "name": "stderr",
     "output_type": "stream",
     "text": [
      "Error getting version of chromedriver 115. Retrying with chromedriver 114 (attempt 1/5)\n"
     ]
    }
   ],
   "source": [
    "from selenium import webdriver\n",
    "from selenium.webdriver.chrome.service import Service\n",
    "from selenium.webdriver.common.by import By\n",
    "from selenium.webdriver.chrome.options import Options\n",
    "from selenium.webdriver.support.ui import WebDriverWait\n",
    "from selenium.webdriver.support import expected_conditions as EC\n",
    "import pandas as pd\n",
    "import time\n",
    "\n",
    "# Set up the driver\n",
    "options = Options()\n",
    "options.add_argument('--headless')  # Uncomment this line if you don't want Chrome to open a visible window\n",
    "driver = webdriver.Chrome(service=Service('C:\\\\Tico Ops\\\\Scrapers\\\\Chrome Driver\\\\chromedriver.exe'), options=options)\n",
    "\n",
    "driver.get('https://www.ycombinator.com/companies?batch=S23&batch=W23')\n",
    "\n",
    "# Wait until the companies are loaded\n",
    "WebDriverWait(driver, 60).until(EC.presence_of_element_located((By.CLASS_NAME, 'WxyYeI15LZ5U_DOM0z8F')))\n",
    "\n",
    "# Scroll down to load more companies\n",
    "for _ in range(150):  # Increase the range to scroll more times\n",
    "    driver.execute_script(\"window.scrollTo(0, document.body.scrollHeight);\")\n",
    "    time.sleep(1)  # Wait for the companies to load\n",
    "\n",
    "# Get all the companies\n",
    "companies = driver.find_elements(By.CLASS_NAME, 'WxyYeI15LZ5U_DOM0z8F')\n",
    "\n",
    "data = {\n",
    "    'CompanyName': [],\n",
    "    'Logo': [],\n",
    "    'Location': [],\n",
    "    'Description': [],\n",
    "    'Batch': [],\n",
    "    'Industry': [],\n",
    "    'SubIndustry': []\n",
    "}\n",
    "\n",
    "for company in companies:\n",
    "    # Get the company name\n",
    "    try:\n",
    "        company_name = company.find_element(By.CSS_SELECTOR, '.CBY8yVfV0he1Zbv9Zwjx').text\n",
    "    except:\n",
    "        company_name = None\n",
    "\n",
    "    # Get the logo URL\n",
    "    try:\n",
    "        logo_url = company.find_element(By.CSS_SELECTOR, 'img').get_attribute('src')\n",
    "    except:\n",
    "        logo_url = None\n",
    "\n",
    "    # Get the location\n",
    "    try:\n",
    "        location = company.find_element(By.CSS_SELECTOR, '.eKDwirBf1zBn7I5MGAOb').text\n",
    "    except:\n",
    "        location = None\n",
    "\n",
    "    # Get the description\n",
    "    try:\n",
    "        description = company.find_element(By.CSS_SELECTOR, '.OCTUb4j7DGmBqnUsAzVD').text\n",
    "    except:\n",
    "        description = None\n",
    "\n",
    "    # Get the batch\n",
    "    try:\n",
    "        batch = company.find_element(By.CSS_SELECTOR, '.R8gtWMqDTf4_z6DNXvU5 a:nth-child(1) span').text\n",
    "    except:\n",
    "        batch = None\n",
    "\n",
    "    # Get the industry\n",
    "    try:\n",
    "        industry = company.find_element(By.CSS_SELECTOR, '.R8gtWMqDTf4_z6DNXvU5 a:nth-child(2) span').text\n",
    "    except:\n",
    "        industry = None\n",
    "\n",
    "    # Get the sub-industry\n",
    "    try:\n",
    "        sub_industry = company.find_element(By.CSS_SELECTOR, '.R8gtWMqDTf4_z6DNXvU5 a:nth-child(3) span').text\n",
    "    except:\n",
    "        sub_industry = None\n",
    "\n",
    "    # Add the data to the dictionary\n",
    "    data['CompanyName'].append(company_name)\n",
    "    data['Logo'].append(logo_url)\n",
    "    data['Location'].append(location)\n",
    "    data['Description'].append(description)\n",
    "    data['Batch'].append(batch)\n",
    "    data['Industry'].append(industry)\n",
    "    data['SubIndustry'].append(sub_industry)\n",
    "\n",
    "# Create a pandas DataFrame from the dictionary\n",
    "df = pd.DataFrame(data)\n",
    "\n",
    "# Save the DataFrame to a CSV file\n",
    "df.to_csv('C:\\\\Tico Ops\\\\Scrapers\\\\Y-Combinator 2\\\\companies3.csv', index=False, encoding='utf-8-sig')\n",
    "\n",
    "\n",
    "# Close the driver\n",
    "driver.quit()\n"
   ]
  }
 ],
 "metadata": {
  "kernelspec": {
   "display_name": "Python 3 (ipykernel)",
   "language": "python",
   "name": "python3"
  },
  "language_info": {
   "codemirror_mode": {
    "name": "ipython",
    "version": 3
   },
   "file_extension": ".py",
   "mimetype": "text/x-python",
   "name": "python",
   "nbconvert_exporter": "python",
   "pygments_lexer": "ipython3",
   "version": "3.11.4"
  }
 },
 "nbformat": 4,
 "nbformat_minor": 4
}
